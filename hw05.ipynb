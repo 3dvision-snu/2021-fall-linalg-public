{
 "cells": [
  {
   "cell_type": "markdown",
   "source": [
    "# \n",
    "\n",
    "# Linear Algebra for Electrical Systems\n",
    "## 2021-fall (430.216, Instructor: prof. Young Min Kim)\n",
    "## TAs: Cheol-Hui Min and Junho Lee\n",
    "\n",
    "## HW5: Classification via Least Squares\n",
    "---\n",
    "\n",
    "- In this homework, we will explore the applications of QR factorization and back substitution\n",
    "we have implemented in the HW3 on the data science problems.\n",
    "\n",
    "- You will be asked to formulate a simple least squares solver using \n",
    "methods we have implemented in HW3 `gram_schmidt`, `QR_factorization`, `back_subst`, and `solve_via_backsub`.\n",
    "We provide those methods for your convenience.\n",
    "\n",
    "- This HW consists of 3 problems.\n",
    "    - Problem 1. Constructing a simple least squares solver.\n",
    "    - Problem 2. Classification of IRIS flower dataset.\n",
    "    - Problem 3. Multi-class classification of IRIS flower dataset.\n",
    " \n",
    "- Please fill out all the `Problem #K. fill out here.` annotated parts.\n",
    "\n",
    "- You should **NOT** use methods under `np.linalg` API. Please use generic `numpy` methods.\n"
   ],
   "metadata": {}
  },
  {
   "cell_type": "code",
   "execution_count": 26,
   "source": [
    "import matplotlib.pyplot as plt\n",
    "import matplotlib as mpl\n",
    "%matplotlib inline\n",
    "import numpy as np"
   ],
   "outputs": [],
   "metadata": {
    "tags": []
   }
  },
  {
   "cell_type": "markdown",
   "source": [
    "## Problem 1. Constructing a simple least squares solver via QR factorization\n",
    "---\n",
    "We follow the pseudo code in the pp. 232 of our textbook, to solve least squares\n",
    "via QR factorization.\n",
    "\n"
   ],
   "metadata": {}
  },
  {
   "cell_type": "markdown",
   "source": [
    "First, let's prepare some ingredients we have implemented in HW3."
   ],
   "metadata": {}
  },
  {
   "cell_type": "code",
   "execution_count": 165,
   "source": [
    "def norm(v):\n",
    "    \"\"\"\n",
    "        Compute the 2-norm of given vector.\n",
    "        Input:\n",
    "            a batch of vector of shape [N, D] \n",
    "        Return:\n",
    "            a batch of computed 2-norm of shape [N, D]\n",
    "    \"\"\"\n",
    "    # Assume we use Frobenious norm (Euclidean norm)\n",
    "    return np.sqrt(np.sum(v**2, axis=-1))\n",
    "\n",
    "\n",
    "def gram_schmidt(a):\n",
    "    \"\"\"\n",
    "    in: a - length k list of n-dim np.arrays.\n",
    "    out: q - length k list of n-dim orthonormal np.arrays. \n",
    "    \"\"\"\n",
    "    q = []\n",
    "    # orthogonalization\n",
    "    for i in range(len(a)): # for i = 1, ..., k\n",
    "        q_tilde = a[i]\n",
    "        for j in range(len(q)): # for each dimension of q_tilde\n",
    "            # recursively add dot(q)\n",
    "            q_tilde = q_tilde - (np.dot(q[j], a[i]))*q[j]\n",
    "        # Test for linear dependence. If \\tilde{q}_i = 0.\n",
    "        if np.sqrt(sum(q_tilde**2)) <= 1e-10:\n",
    "            print('Vectors are linearly dependent.')\n",
    "            print('GS algorithm terminates at iteration ', i+1)\n",
    "            return q\n",
    "        #Normalization\n",
    "        else:\n",
    "            q_tilde = q_tilde / norm(q_tilde)\n",
    "            q.append(q_tilde)\n",
    "    return q\n",
    "\n",
    "\n",
    "def QR_factorization(A):\n",
    "    \"\"\"\n",
    "    in: numpy array whose k columns are linearly independent.\n",
    "    \"\"\"\n",
    "    # we feed gram_schmidt() A.T since it orthonormalizes row vectors of the input array. \n",
    "    # Thus, we get transposed array whose rows are orthonormal. \n",
    "    Q_transpose = np.array(gram_schmidt(A.T))\n",
    "    R = Q_transpose @ A # since Q^T = Q^-1\n",
    "    Q = Q_transpose.T\n",
    "    return Q, R\n",
    "\n",
    "\n",
    "\n",
    "# define the back-substitution function.\n",
    "# please refer to pp.207 of our textbook.\n",
    "def back_subst(R, b_tilde):\n",
    "    n = R.shape[0]\n",
    "    x = np.zeros(n)\n",
    "    for i in reversed(range(n)): # iterate in reversed order: n, n-1, ..., 1.\n",
    "        x[i] = b_tilde[i]\n",
    "        for j in range(i+1, n):\n",
    "            x[i] = x[i] - R[i,j] * x[j]\n",
    "        x[i] = x[i]/R[i,i]\n",
    "    return x\n",
    "\n",
    "\n",
    "# define a solver the uses back_substituion.\n",
    "def solve_via_backsub(A, b):\n",
    "    # first to QR factorization\n",
    "    Q, R = QR_factorization(A)\n",
    "\n",
    "    # let b_tilde as Q^T b\n",
    "    b_tilde = Q.T @ b\n",
    "\n",
    "    # solve Rx=Q^Tb to get x.\n",
    "    x = back_subst(R, b_tilde)\n",
    "    return x"
   ],
   "outputs": [],
   "metadata": {}
  },
  {
   "cell_type": "markdown",
   "source": [
    "<!-- If we choose $\\mathbf{\\tilde{q}}_1= \\mathbf{a}_1$, then the orthogonal component of projection of $\\mathbf{a}_2$ onto $\\mathbf{\\tilde{q}}_1$ is $\\mathbf{\\tilde{q}}_2$.\n",
    "\n",
    "\n",
    "Define the projecttion of vector $\\mathbf{a}_2$ on the vector $\\mathbf{\\tilde{q}}_1$ as $\\text{Proj}_{\\mathbf{\\tilde{q}}_1}\\mathbf{a}_2 = \\alpha \\mathbf{a}_1$, \n",
    "\n",
    " then $(\\mathbf{a}_2 - \\alpha \\mathbf{a}_1)\\cdot \\mathbf{a}_1 = 0$, rearange for $\\alpha$\n",
    "\n",
    "$$\n",
    "\\alpha = \\frac{\\mathbf{a}_2^T\\mathbf{a}_1}{\\mathbf{a}_1^T\\mathbf{a}_1}\n",
    "$$\n",
    "\n",
    "According to definition above\n",
    "\n",
    "$$\n",
    "\\text{Proj}_{\\mathbf{\\tilde{q}}_1}\\mathbf{a}_2 = \\alpha \\mathbf{a}_1 = \\frac{\\mathbf{a}_2^T\\mathbf{a}_1}{\\mathbf{a}_1^T\\mathbf{a}_1}\\mathbf{a}_1\n",
    "$$\n",
    "\n",
    "The orthogonal component, $\\mathbf{\\tilde{q}}_2$ is \n",
    "\n",
    "$$\n",
    "\\mathbf{a}_2- \\text{Proj}_{\\mathbf{\\tilde{q}}_1}\\mathbf{a}_2 =\\mathbf{a}_2 - \\frac{\\mathbf{a}_2^T\\mathbf{a}_1}{\\mathbf{a}_1^T\\mathbf{a}_1}\\mathbf{a}_1\n",
    "$$ -->"
   ],
   "metadata": {}
  },
  {
   "cell_type": "markdown",
   "source": [
    "### First solve toy example with numpy's innate methods. "
   ],
   "metadata": {}
  },
  {
   "cell_type": "code",
   "execution_count": 109,
   "source": [
    "# define a matrix having linearly independent columns.\n",
    "A = np.array([[2, 0], [-1, 1], [0, 2]])\n",
    "b = np.array([1, 0, -1])"
   ],
   "outputs": [],
   "metadata": {}
  },
  {
   "cell_type": "markdown",
   "source": [
    "In Eq.(12.5) and Eq.(12.6)of our textbook, we find that\n",
    "\n",
    "$\\mathbf{\\hat{x}}=(A^{\\top}A)^{-1}A^{\\top}\\mathbf{b}=A^{\\dagger}\\mathbf{b}$\n",
    "\n",
    "yields the solution for least squares problem.\n"
   ],
   "metadata": {}
  },
  {
   "cell_type": "code",
   "execution_count": 110,
   "source": [
    "# solve using the second term. use numpy.linalg.inv\n",
    "sol1 = \"Problem #1. fill out here\"\n",
    "print(sol1)\n",
    "\n",
    "# solve using the pinv solver of numpy.\n",
    "sol2 = \"Problem #1. fill out here\"\n",
    "print(sol2)\n",
    "\n",
    "x_hat = sol2\n",
    "# check of Eq.(12.4) holds.\n",
    "np.allclose(\"Problem #1. fill out here\", A.T @ b)"
   ],
   "outputs": [
    {
     "output_type": "stream",
     "name": "stdout",
     "text": [
      "[ 0.33333333 -0.33333333]\n",
      "[ 0.33333333 -0.33333333]\n"
     ]
    },
    {
     "output_type": "execute_result",
     "data": {
      "text/plain": [
       "True"
      ]
     },
     "metadata": {},
     "execution_count": 110
    }
   ],
   "metadata": {}
  },
  {
   "cell_type": "markdown",
   "source": [
    "### Now we solve the approximate solution of least squares problem via QR factorization, referring to Algorithm 12.1."
   ],
   "metadata": {}
  },
  {
   "cell_type": "code",
   "execution_count": 111,
   "source": [
    "A = np.random.normal(size = (100, 20))\n",
    "b = np.random.normal(size = 100)\n",
    "\n",
    "# solve via our custom solver.\n",
    "x1 = \"Problem #1. fill out here\"\n",
    "x2 = np.linalg.inv(A.T @ A) @ (A.T @ b)\n",
    "x3 = np.linalg.pinv(A) @ b\n",
    "\n",
    "print(np.allclose(x1, x2))\n",
    "print(np.allclose(x1, x3))\n"
   ],
   "outputs": [
    {
     "output_type": "stream",
     "name": "stdout",
     "text": [
      "20\n",
      "!!!!!!!!!!!!!!\n",
      "[-0.29026054  0.07091094  0.72219873  0.73006391 -0.36592748  0.81322108\n",
      "  1.08281841 -1.31554692  0.04003694 -1.95420804  0.62276836 -0.3347896\n",
      "  0.84075737 -1.10278837  0.44851431  0.88150936  1.01600121  0.04509338\n",
      "  2.52509402  0.5804904 ]\n",
      "!!!!!!!!!!!!!!\n",
      "True\n",
      "True\n"
     ]
    }
   ],
   "metadata": {}
  },
  {
   "cell_type": "markdown",
   "source": [
    "### Now we solve the lamp illumination problem."
   ],
   "metadata": {}
  },
  {
   "cell_type": "code",
   "execution_count": 112,
   "source": [
    "# number of lamps\n",
    "n = 10\n",
    "# x, y positions of lamps and height above floor \n",
    "lamps = np.array([\n",
    "        [4.1, 20.4, 4], [14.1, 21.3, 3.5], [22.6, 17.1, 6],\n",
    "        [5.5, 12.3, 4.0], [12.2, 9.7, 4.0], [15.3, 13.8, 6],\n",
    "        [21.3, 10.5, 5.5], [3.9 ,3.3, 5.0], [13.1, 4.3, 5.0],\n",
    "        [20.3, 4.2, 4.5]\n",
    "    ])\n",
    "N = 25 # grid size\n",
    "m = N * N # number of pixels\n",
    "# construct m x 2 matrix with coordinates of pixel centers\n",
    "\n",
    "# print(np.outer(np.arange(0.5, N, 1),\n",
    "#                             np.ones(N)).shape)\n",
    "\n",
    "\n",
    "# assume we have 25 X 25 gridmap, where (0, 0) is the coordinate of top left corner \n",
    "# and (25, 25) is the coordinate of bottom right corner.\n",
    "# the center of each grid should have tho coordinate like\n",
    "# [(0.5, 0.5), (1.5, 0.5), (2.5, 0.5) ... (24.5, 0.5)]\n",
    "# [(0.5, 1.5), (1.5, 1.5), (2.5, 1.5)  ...(24.5, 1.5)]\n",
    "#                          ...\n",
    "# [(0.5, 24.5),            ...           (24.5, 24.5)]\n",
    "\n",
    "# define [625, 2] shaped array containing pixel coordinates.\n",
    "\n",
    "# first create equally spaced values in [0.5, 24.5], into 25 values.\n",
    "spaces = np.linspace(\"Problem #1. fill out here\")\n",
    "\n",
    "# now we create value mesh for each horizontal (x) and vertical (y) axis\n",
    "mesh_x, mesh_y = np.meshgrid(\"Problem #1. fill out here\")\n",
    "\n",
    "# create a mesh that each node containing the center coordinate and the zero\n",
    "mesh = np.stack([\"Problem #1. fill out here\"], axis=-1)\n",
    "\n",
    "# reshape for the computation convenience\n",
    "mesh = mesh.reshape(-1, 3)\n",
    "\n",
    "# The m x n matrix A maps lamp powers to pixel intensities. \n",
    "# A[i,j] is inversely proportional to the squared distance of\n",
    "# lamp j to pixel i.\n",
    "A = np.zeros((m, n)) # intensity matrix for m grids and n lamps.T\n",
    "\n",
    "for i in range(m): # iterate over m grids.\n",
    "    for j in range(n): # iterate over n lamps.\n",
    "        A[i, j] = \"Problem #1. fill out here\" # intensity ~ inverse of distance\n",
    "print(A.shape)\n",
    "\n",
    "A = (m/np.sum(A)) * A # scale elements of A\n",
    "\n",
    "# solve least squares equation.\n",
    "x = \"Problem #1. fill out here\"\n",
    "\n",
    "# compute rms error.\n",
    "rms_ls = (sum((A @ x - 1)**2)/m)**0.5\n",
    "print(rms_ls)\n"
   ],
   "outputs": [
    {
     "output_type": "stream",
     "name": "stdout",
     "text": [
      "(625, 10)\n",
      "10\n",
      "!!!!!!!!!!!!!!\n",
      "[15.64528586 10.03219825 10.96493888  7.61966487  5.12730307  0.28756461\n",
      "  3.93552913  5.60542546  2.96460526  2.62724633]\n",
      "!!!!!!!!!!!!!!\n",
      "0.14039048134276055\n"
     ]
    }
   ],
   "metadata": {}
  },
  {
   "cell_type": "markdown",
   "source": [
    "Let's visualize the histogram for intensity for each pixel."
   ],
   "metadata": {}
  },
  {
   "cell_type": "code",
   "execution_count": 113,
   "source": [
    "plt.hist(\"Problem #1. fill out here\", bins = 25)\n",
    "plt.show()"
   ],
   "outputs": [
    {
     "output_type": "display_data",
     "data": {
      "image/png": "[encoded data removed]",
      "text/plain": [
       "<Figure size 432x288 with 1 Axes>"
      ]
     },
     "metadata": {
      "needs_background": "light"
     }
    }
   ],
   "metadata": {}
  },
  {
   "cell_type": "markdown",
   "source": [
    "## Problem 2. Classification of IRIS flower dataset.\n",
    "\n",
    "Now we conduct the classification problem using IRIS dataset.\n",
    "First, let's prepare the IRIS flower dataset.\n",
    "\n",
    "In addition we take the least squares classifier based on the regression model,\n",
    "as shown in pp.289 of our textbook."
   ],
   "metadata": {}
  },
  {
   "cell_type": "code",
   "execution_count": 114,
   "source": [
    "! pip install sklearn\n",
    "import sklearn\n",
    "from sklearn.datasets import load_iris\n",
    "iris = load_iris()\n",
    "\n",
    "X = iris['data'] # (150, 4)\n",
    "# first 50 rows are for 'setosa', next 50 rows are 'versicolor', and the last 50 are 'virginica'\n",
    "\n",
    "# we simplify the problem as binary classification. y is 1 for 'virginical' and -1 otherwise.\n",
    "y = 2 * np.concatenate([np.zeros(100), np.ones(50)]) - 1. # (150,)\n",
    "\n",
    "# we add the offset 'v' as all ones-array to create regression model.\n",
    "\n",
    "A = np.concatenate([np.ones((150, 1)), X], axis=-1) # [150, 5]\n",
    "\n",
    "# find regression model parameter thetas\n",
    "\n",
    "theta = \"Problem #2. fill out here\" # [5,]\n",
    "\n",
    "# show the predictions. Check if the prediction is True (>0) or False (<=0).\n",
    "results = \"Problem #2. fill out here\"\n",
    "print(results)"
   ],
   "outputs": [
    {
     "output_type": "stream",
     "name": "stdout",
     "text": [
      "Requirement already satisfied: sklearn in /home/cheolhui/anaconda3/envs/gatsbi_rl/lib/python3.7/site-packages (0.0)\n",
      "Requirement already satisfied: scikit-learn in /home/cheolhui/anaconda3/envs/gatsbi_rl/lib/python3.7/site-packages (from sklearn) (0.24.2)\n",
      "Requirement already satisfied: threadpoolctl>=2.0.0 in /home/cheolhui/anaconda3/envs/gatsbi_rl/lib/python3.7/site-packages (from scikit-learn->sklearn) (2.2.0)\n",
      "Requirement already satisfied: scipy>=0.19.1 in /home/cheolhui/anaconda3/envs/gatsbi_rl/lib/python3.7/site-packages (from scikit-learn->sklearn) (1.4.1)\n",
      "Requirement already satisfied: joblib>=0.11 in /home/cheolhui/anaconda3/envs/gatsbi_rl/lib/python3.7/site-packages (from scikit-learn->sklearn) (0.14.0)\n",
      "Requirement already satisfied: numpy>=1.13.3 in /home/cheolhui/anaconda3/envs/gatsbi_rl/lib/python3.7/site-packages (from scikit-learn->sklearn) (1.16.4)\n",
      "5\n",
      "!!!!!!!!!!!!!!\n",
      "[-4.0824829   7.36722205 -0.70501746  4.595766    2.55975601]\n",
      "!!!!!!!!!!!!!!\n"
     ]
    },
    {
     "output_type": "execute_result",
     "data": {
      "text/plain": [
       "array([False, False, False, False, False, False, False, False, False,\n",
       "       False, False, False, False, False, False, False, False, False,\n",
       "       False, False, False, False, False, False, False, False, False,\n",
       "       False, False, False, False, False, False, False, False, False,\n",
       "       False, False, False, False, False, False, False, False, False,\n",
       "       False, False, False, False, False, False,  True, False, False,\n",
       "       False, False,  True, False, False, False, False, False, False,\n",
       "       False, False, False,  True, False, False, False,  True, False,\n",
       "       False, False, False, False, False,  True, False, False, False,\n",
       "       False, False, False,  True,  True, False, False, False, False,\n",
       "       False, False, False, False, False, False, False, False, False,\n",
       "       False,  True,  True,  True,  True,  True,  True,  True,  True,\n",
       "        True,  True,  True,  True,  True,  True,  True,  True,  True,\n",
       "        True,  True, False,  True,  True,  True,  True,  True,  True,\n",
       "        True,  True,  True, False,  True,  True,  True, False, False,\n",
       "        True,  True,  True,  True,  True,  True,  True,  True,  True,\n",
       "        True,  True,  True,  True,  True,  True])"
      ]
     },
     "metadata": {},
     "execution_count": 114
    }
   ],
   "metadata": {}
  },
  {
   "cell_type": "code",
   "execution_count": null,
   "source": [],
   "outputs": [],
   "metadata": {}
  },
  {
   "cell_type": "markdown",
   "source": [
    "## Problem 3. Multi-class classification of IRIS dataset.\n",
    "Now, we will conduct multi-class classification of the IRIS dataset."
   ],
   "metadata": {}
  },
  {
   "cell_type": "markdown",
   "source": [
    "As shown in the textbook, the $K$-class classifier can be expressed as \n",
    "\n",
    "$\n",
    "\\hat{f}({\\mathbf{x}})=\\argmax_k \\tilde{f}_k(\\mathbf{x}).\n",
    "$\n",
    "\n",
    "We can simplify this as matrix-vector notation as\n",
    "\n",
    "$\n",
    "\\hat{f}({\\mathbf{x}})=\\argmax \\mathbf{x}^{\\top}\\Theta,\n",
    "$\n",
    "\n",
    "where $\\Theta=[\\theta_1, \\cdots, \\theta_K] \\in \\mathbb{R}^{n \\times K}$.\n"
   ],
   "metadata": {}
  },
  {
   "cell_type": "code",
   "execution_count": 151,
   "source": [
    "\n",
    "# we define row argmax function, that returns the index for the maximum value along each row.\n",
    "# Thus, for K columns and N samples, we can find the maximum values among K class predictions.\n",
    "# we use python's Lambda function for convenience. \n",
    "# please refer to this: https://stackabuse.com/lambda-functions-in-python/\n",
    "\n",
    "# iterate for each row by index i, and find the maximum value for among columns.\n",
    "row_argmax = lambda u: [\"Problem #3. fill out here\" range(len(u))]\n",
    "\n",
    "# test our lambda function.\n",
    "A = np.random.normal(size = (4, 5))\n",
    "print(A)\n",
    "print(row_argmax(A))"
   ],
   "outputs": [
    {
     "output_type": "stream",
     "name": "stdout",
     "text": [
      "[[ 0.23619293 -0.67688827 -0.06032297  0.29568893  1.36014297]\n",
      " [ 0.49449182 -0.95263651  1.02415754 -0.041958    1.27567744]\n",
      " [-0.67247346 -0.96348359  0.1622346   1.66981269 -2.19802532]\n",
      " [-0.93286353 -0.9559421  -0.59069323 -0.59352864  1.99936534]]\n",
      "[4, 4, 3, 4]\n"
     ]
    }
   ],
   "metadata": {}
  },
  {
   "cell_type": "code",
   "execution_count": 181,
   "source": [
    "# we also define a one-hot function that changes the label into one-hot vector.\n",
    "# please refer to this for more information about one-hot vector.\n",
    "# https://machinelearningmastery.com/how-to-one-hot-encode-sequence-data-in-python/\n",
    "\n",
    "def one_hot(ycl, K):\n",
    "\n",
    "    N = len(\"Problem #3. fill out here\") # get the amount of labels.\n",
    "    Y = np.zeros((N, K)) # dummy matrix.\n",
    "    for j in range(K): # iterate over K classes\n",
    "        \"Problem #3. fill out here\"  # set element to 1 if class index is equal to index j.\n",
    "    return Y"
   ],
   "outputs": [],
   "metadata": {}
  },
  {
   "cell_type": "code",
   "execution_count": null,
   "source": [],
   "outputs": [],
   "metadata": {}
  },
  {
   "cell_type": "code",
   "execution_count": 201,
   "source": [
    "# multi-class least-squares solver\n",
    "def ls_multiclass(X, ycl, K):\n",
    "    \"\"\"\n",
    "        X: training data\n",
    "        ycl: class labels.\n",
    "        K: number of classes.\n",
    "    \"\"\"\n",
    "    # get one_hot labels.\n",
    "    one_hot_label = \"Problem #3. fill out here\"\n",
    "    # change into singed labels.\n",
    "    signed_label = \"Problem #3. fill out here\" # [B, 3]\n",
    "\n",
    "    # solve matrix form least squares\n",
    "    theta_cols = []\n",
    "    for i in range(K): # iterate over K columns\n",
    "        theta = \"Problem #3. fill out here\" # solve least squares\n",
    "        theta_cols.append(theta)\n",
    "    Theta = \"Problem #3. fill out here\" # get theta matrix\n",
    "\n",
    "    # get prediction\n",
    "    yhat = np.array(\"Problem #3. fill out here\"(X.T @ Theta.T))\n",
    "    return Theta, yhat"
   ],
   "outputs": [],
   "metadata": {}
  },
  {
   "cell_type": "code",
   "execution_count": 202,
   "source": [
    "# shuffle dataset for each class. Use this indices to create train/test split.\n",
    "I1 = np.random.permutation(50)\n",
    "I2 = np.random.permutation(50) + 50\n",
    "I3 = np.random.permutation(50) + 100\n",
    "\n",
    "# training set consists of 40 randomly picked examples per class\n",
    "Xtrain = np.vstack(\n",
    "    [\n",
    "    \"Problem #3. fill out here\"\n",
    "     ]).T # [5, 120]\n",
    "\n",
    "# add contant feature one\n",
    "Xtrain = np.vstack([np.ones(120), Xtrain])\n",
    "\n",
    "# the true labels for train set are a sequence of 0s, 1s and 2s\n",
    "# since the examples in Xtrain are stacked in order\n",
    "ytrain = np.hstack([np.zeros(40), np.ones(40), 2 * np.ones(40)]) # [120, ]\n",
    "\n",
    "# test set is remaining 10 examples for each class Xtest\n",
    "Xtest = np.vstack(\n",
    "    \"Problem #3. fill out here\"\n",
    "    ).T \n",
    "\n",
    "Xtest = np.vstack([np.ones(30), Xtest]) # [5, 30]\n",
    "ytest = np.hstack([np.zeros(10), np.ones(10), 2 * np.ones(10)]) # [30, ]\n",
    "\n",
    "# get the Theta matrix\n",
    "Theta, yhat = \"Problem #3. fill out here\"\n",
    "\n",
    "# compute rms error for training set\n",
    "rms_train = (sum((yhat - ytrain)**2)/ 120)**0.5\n",
    "\n",
    "print(rms_train)\n",
    "\n",
    "# check for the test set\n",
    "y_hat_test = \"Problem #3. fill out here\"\n",
    "\n",
    "rms_test = (sum((y_hat_test - ytest)**2)/ 30)**0.5\n",
    "\n",
    "print(rms_test)"
   ],
   "outputs": [
    {
     "output_type": "stream",
     "name": "stdout",
     "text": [
      "[[ 0.65056873 -0.47283813 -1.1777306 ]\n",
      " [ 1.01236508 -0.83570869 -1.17665639]\n",
      " [ 0.98322576 -0.81766331 -1.16556245]\n",
      " [ 1.12462258 -1.01427703 -1.11034555]\n",
      " [ 0.99661448 -0.91265338 -1.08396109]\n",
      " [ 0.94567119 -0.71512492 -1.23054627]\n",
      " [ 0.85481145 -0.58699282 -1.26781863]\n",
      " [ 0.70707712 -0.24227093 -1.46480619]\n",
      " [ 0.80876157 -1.03618167 -0.7725799 ]\n",
      " [ 0.84399428 -0.99254469 -0.85144959]\n",
      " [ 0.78186764 -0.75341112 -1.02845652]\n",
      " [ 1.35436629 -1.61591099 -0.73845529]\n",
      " [ 1.30731102 -1.30331521 -1.00399582]\n",
      " [ 0.97120108 -0.86028435 -1.11091673]\n",
      " [ 0.86210678 -0.74366524 -1.11844153]\n",
      " [ 0.67625514 -0.39267784 -1.2835773 ]\n",
      " [ 0.79309102 -0.4769061  -1.31618493]\n",
      " [ 0.97477049 -1.05128043 -0.92349006]\n",
      " [ 1.00611517 -1.12271078 -0.8834044 ]\n",
      " [ 0.91032199 -0.66597149 -1.2443505 ]\n",
      " [ 0.93585188 -0.81113092 -1.12472095]\n",
      " [ 1.03112235 -1.04603296 -0.9850894 ]\n",
      " [ 0.64395263 -0.31268323 -1.3312694 ]\n",
      " [ 1.02591032 -0.70537904 -1.32053128]\n",
      " [ 0.84583346 -0.59877268 -1.24706078]\n",
      " [ 0.90811662 -0.61258652 -1.2955301 ]\n",
      " [ 0.84442939 -0.7792717  -1.0651577 ]\n",
      " [ 0.99633589 -0.90060665 -1.09572924]\n",
      " [ 1.32983425 -1.16120569 -1.16862856]\n",
      " [ 0.60362996 -0.25303275 -1.35059721]\n",
      " [ 0.84362809 -0.54538771 -1.29824038]\n",
      " [ 0.36792049  0.16991874 -1.53783923]\n",
      " [ 1.18342393 -1.27220505 -0.91121889]\n",
      " [ 0.78398541 -0.37168584 -1.41229957]\n",
      " [ 0.69505244 -0.28489197 -1.41016047]\n",
      " [ 0.6815072  -0.41522163 -1.26628557]\n",
      " [ 0.98406709 -0.73343717 -1.25062992]\n",
      " [ 0.6944897  -0.38116485 -1.31332485]\n",
      " [ 0.61537605 -0.19836498 -1.41701107]\n",
      " [ 0.67032385 -0.37361652 -1.29670733]\n",
      " [-0.7442618   0.15522656 -0.41096476]\n",
      " [-0.85126724  0.31125111 -0.45998387]\n",
      " [-0.57900662 -0.37920859 -0.04178479]\n",
      " [-0.83732691  0.33674363 -0.49941671]\n",
      " [-0.64362277 -0.19500967 -0.16136756]\n",
      " [-1.12336379  0.15570003 -0.03233624]\n",
      " [-0.68250135  0.36324997 -0.68074862]\n",
      " [-0.54246857  0.30424736 -0.76177879]\n",
      " [-0.37184484 -0.34552198 -0.28263318]\n",
      " [-0.60397377 -0.13777628 -0.25824995]\n",
      " [-0.59996926 -0.11549936 -0.28453138]\n",
      " [-0.86521869  0.3099683  -0.44474961]\n",
      " [-1.06228815  0.50481702 -0.44252888]\n",
      " [-0.88641235 -0.16749611  0.05390846]\n",
      " [-0.73087308  0.06023649 -0.32936341]\n",
      " [-0.85238715  0.2390717  -0.38668454]\n",
      " [-0.63103535 -0.05611575 -0.3128489 ]\n",
      " [-0.55079622 -0.04636987 -0.40283391]\n",
      " [-0.78633606 -0.61400522  0.40034127]\n",
      " [-0.76185159 -0.31549014  0.07734173]\n",
      " [-0.73351356 -0.09965154 -0.1668349 ]\n",
      " [-0.80834411  0.09337852 -0.28503441]\n",
      " [-0.80048605  0.03297897 -0.23249293]\n",
      " [-0.57011623  0.06768152 -0.49756529]\n",
      " [-0.66097598  0.19581362 -0.53483764]\n",
      " [-0.54694823 -0.24941268 -0.20363909]\n",
      " [-0.63913198  0.33444066 -0.69530868]\n",
      " [-0.75451623 -0.15405244 -0.09143133]\n",
      " [-0.63992574 -0.50300586  0.1429316 ]\n",
      " [-0.62835485  0.42188241 -0.79352756]\n",
      " [-0.61031128  0.01033189 -0.40002061]\n",
      " [-1.09102125  0.39381555 -0.3027943 ]\n",
      " [-0.75795801 -0.08005648 -0.16198552]\n",
      " [-0.72533688  0.14601231 -0.42067543]\n",
      " [-0.504914    0.20170897 -0.69679496]\n",
      " [-0.53167276 -0.70385111  0.23552388]\n",
      " [-0.54445871 -0.19447803 -0.26106325]\n",
      " [-0.62882999 -0.10950071 -0.2616693 ]\n",
      " [-0.62826725 -0.01322784 -0.35850491]\n",
      " [-0.6872596  -0.17836334 -0.13437707]\n",
      " [-1.34314746 -0.21462429  0.55777175]\n",
      " [-1.17334171 -0.72666628  0.90000799]\n",
      " [-1.46514977  0.38379197  0.0813578 ]\n",
      " [-1.13582358 -0.100194    0.23601759]\n",
      " [-0.87042318 -0.42070829  0.29113147]\n",
      " [-1.09638226 -0.56218076  0.65856303]\n",
      " [-1.30188006  0.66812514 -0.36624507]\n",
      " [-1.18632063  0.28639774 -0.10007712]\n",
      " [-1.13565952 -0.94620479  1.08186431]\n",
      " [-0.88508834 -0.62321735  0.50830569]\n",
      " [-1.24222984 -0.57690724  0.81913709]\n",
      " [-1.22703084 -0.62044514  0.84747598]\n",
      " [-1.04007797  0.19628709 -0.15620912]\n",
      " [-0.98139669 -1.01597132  0.99736802]\n",
      " [-1.01217864 -0.8482681   0.86044674]\n",
      " [-1.30808241 -0.37209732  0.68017973]\n",
      " [-1.12848068 -1.01008681  1.13856749]\n",
      " [-1.05645468 -0.51699411  0.57344878]\n",
      " [-1.36291568  0.63711828 -0.27420259]\n",
      " [-1.55412277  0.1524757   0.40164707]\n",
      " [-1.01238274 -0.32036745  0.33275018]\n",
      " [-0.94553232 -0.2156315   0.16116382]\n",
      " [-1.30455303 -0.88120353  1.18575656]\n",
      " [-1.02248064 -0.40432672  0.42680736]\n",
      " [-1.23831292 -0.11952008  0.357833  ]\n",
      " [-1.1707777  -0.15587771  0.32665541]\n",
      " [-1.06336605 -0.44094911  0.50431516]\n",
      " [-1.8838952   0.44739839  0.43649681]\n",
      " [-1.14459748 -0.63987452  0.78447199]\n",
      " [-1.09826901 -0.2027324   0.30100141]\n",
      " [-1.02741408 -0.07571953  0.10313361]\n",
      " [-1.0708924  -1.02545033  1.09634273]\n",
      " [-1.32147112 -0.27710725  0.59857838]\n",
      " [-1.28872237 -0.16803858  0.45676095]\n",
      " [-0.92516689 -0.77335739  0.69852428]\n",
      " [-1.03398261 -0.66878501  0.70276762]\n",
      " [-1.05904292 -0.1126088   0.17165171]\n",
      " [-1.48351196  0.48927909 -0.00576713]\n",
      " [-1.2446393   0.00437837  0.24026092]\n",
      " [-1.20556417 -0.01045141  0.21601557]]\n",
      "0.3872983346207417\n",
      "0.3651483716701107\n"
     ]
    }
   ],
   "metadata": {}
  },
  {
   "cell_type": "code",
   "execution_count": null,
   "source": [],
   "outputs": [],
   "metadata": {}
  },
  {
   "cell_type": "code",
   "execution_count": null,
   "source": [],
   "outputs": [],
   "metadata": {}
  }
 ],
 "metadata": {
  "interpreter": {
   "hash": "da2450b255984eba261d4f9cdee3330bd0d7728ee7fae9f7c2e273b8d0631fc6"
  },
  "kernelspec": {
   "name": "python3",
   "display_name": "Python 3.7.10 64-bit ('gatsbi_rl': conda)"
  },
  "language_info": {
   "codemirror_mode": {
    "name": "ipython",
    "version": 3
   },
   "file_extension": ".py",
   "mimetype": "text/x-python",
   "name": "python",
   "nbconvert_exporter": "python",
   "pygments_lexer": "ipython3",
   "version": "3.7.10"
  },
  "orig_nbformat": 2
 },
 "nbformat": 4,
 "nbformat_minor": 2
}