{
 "cells": [
  {
   "cell_type": "markdown",
   "id": "096fc26c",
   "metadata": {},
   "source": [
    "# Linear Algebra for Electrical Engineers HW4"
   ]
  },
  {
   "cell_type": "markdown",
   "id": "93a7dee3",
   "metadata": {},
   "source": [
    "2021-fall (430.216, Professor Young Min Kim)"
   ]
  },
  {
   "cell_type": "markdown",
   "id": "b9f5d5c0",
   "metadata": {},
   "source": [
    "TAs: Cheoul-Hui Max and Junho Lee"
   ]
  },
  {
   "cell_type": "markdown",
   "id": "cd139720",
   "metadata": {},
   "source": [
    "## You and your partner's name and id: "
   ]
  },
  {
   "cell_type": "markdown",
   "id": "ca27b37e",
   "metadata": {},
   "source": [
    "## HW4: Determinants and SVD"
   ]
  },
  {
   "cell_type": "markdown",
   "id": "ee41963d",
   "metadata": {},
   "source": [
    "In this homework, you will be asked to implement a function to compute determinants and a function to compute the pseudoinverse of a matrix via SVD."
   ]
  },
  {
   "cell_type": "markdown",
   "id": "16e4c2c6",
   "metadata": {},
   "source": [
    "The homework consists of 2 problems:\n",
    "1. A function to obtain the determinant of a square matrix without importing anything\n",
    "2. Obtaining the pseudoinverse of a matrix via SVD"
   ]
  },
  {
   "cell_type": "markdown",
   "id": "3521f731",
   "metadata": {},
   "source": [
    "Fill in the missing parts of the code below to get intended results."
   ]
  },
  {
   "cell_type": "markdown",
   "id": "88558354",
   "metadata": {},
   "source": [
    "### Problem 1: Determinant without importing anything"
   ]
  },
  {
   "cell_type": "markdown",
   "id": "a15a1673",
   "metadata": {},
   "source": [
    "Determinants can be obtain through one line of code using libraries such as numpy or scipy."
   ]
  },
  {
   "cell_type": "markdown",
   "id": "c2592709",
   "metadata": {},
   "source": [
    "However, in this problem, we aim to get the determinant of a square matrix without importing anything!"
   ]
  },
  {
   "cell_type": "markdown",
   "id": "45f827e1",
   "metadata": {},
   "source": [
    "Of the many ways of computing determinants, we will be using Laplace expansion which expresses the determinant of a given matrix in terms of smaller submatrices."
   ]
  },
  {
   "cell_type": "markdown",
   "id": "8cbe7866",
   "metadata": {},
   "source": [
    "That is, for a square matrix $A$, its determinant can be written down as"
   ]
  },
  {
   "cell_type": "markdown",
   "id": "d772d972",
   "metadata": {},
   "source": [
    "\\begin{gather}\n",
    "    det(A) = \\sum_{j=1}^{n}(-1)^{i+j}a_{ij}M_{ij},\n",
    "\\end{gather}"
   ]
  },
  {
   "cell_type": "markdown",
   "id": "e1cfccee",
   "metadata": {},
   "source": [
    "where $M_{ij}$ is the determinant of the $(n-1)x(n-1)$ matrix that is formed by removing the $i$-th row and $j$-th column from $A$."
   ]
  },
  {
   "cell_type": "markdown",
   "id": "b6a01560",
   "metadata": {},
   "source": [
    "For instance, the determinant for a $3x3$ matrix $B$\n",
    "\\begin{gather}\n",
    "B = \n",
    "\\begin{bmatrix}\n",
    "    a & b & c\\\\\n",
    "    d & e & f\\\\\n",
    "    g & h & i\n",
    "\\end{bmatrix}\n",
    "\\end{gather}\n",
    "can be written as\n",
    "\\begin{gather}\n",
    "    det(B) = \n",
    "    a\\;det(\\begin{bmatrix}e&f\\\\h&i\\end{bmatrix})\n",
    "    -b\\;det(\\begin{bmatrix}d&f\\\\g&i\\end{bmatrix})\n",
    "    +c\\;det(\\begin{bmatrix}d&e\\\\g&h\\end{bmatrix})\n",
    "\\end{gather}"
   ]
  },
  {
   "cell_type": "markdown",
   "id": "fb19b9b6",
   "metadata": {},
   "source": [
    "You can see that this relation can be modeled as a recursive function!"
   ]
  },
  {
   "cell_type": "markdown",
   "id": "b212daa9",
   "metadata": {},
   "source": [
    "So let's get started!"
   ]
  },
  {
   "cell_type": "code",
   "execution_count": null,
   "id": "2ffe3d8d",
   "metadata": {},
   "outputs": [],
   "source": [
    "## Two utility functions\n",
    "def copy_matrix(M):\n",
    "    \"\"\"\n",
    "    Creates and returns a copy of a matrix.\n",
    "        :param M: The matrix to be copied\n",
    "        :return: A copy of the given matrix\n",
    "    \"\"\"\n",
    "    ## TODO\n",
    "\n",
    "def zeros_matrix(rows, cols):\n",
    "    \"\"\"\n",
    "    Creates a matrix filled with zeros.\n",
    "        :param rows: the number of rows the matrix should have\n",
    "        :param cols: the number of columns the matrix should have\n",
    "        :return: list of lists that form the matrix\n",
    "    \"\"\"\n",
    "    ## TODO"
   ]
  },
  {
   "cell_type": "code",
   "execution_count": null,
   "id": "cc79f4f0",
   "metadata": {},
   "outputs": [],
   "source": [
    "## Where the recursion happens!\n",
    "def determinant_recursive(A):\n",
    "    \"\"\"\n",
    "    Computes the determinant recursively\n",
    "        :param A: the input matrix\n",
    "        :return: the determinant of matrix A\n",
    "    \"\"\"\n",
    "## TODO"
   ]
  },
  {
   "cell_type": "code",
   "execution_count": null,
   "id": "b45ad0cd",
   "metadata": {},
   "outputs": [],
   "source": [
    "## Check if you've got the right results\n",
    "## Only now do we import anything\n",
    "import numpy as np\n",
    "\n",
    "A = [[-2,2,-3],[-1,1,3],[2,0,-1]]\n",
    "Det = determinant_recursive(A)\n",
    "npDet = np.linalg.det(A)\n",
    "print(\"Determinant of A is\", round(Det,9))\n",
    "print(\"The Numpy Determinant of A is\", round(npDet,9))\n",
    "print()\n",
    " \n",
    "A = [[1,2,3,4],[5,6,7,8],[9,10,11,12],[13,14,15,16]]\n",
    "Det = determinant_recursive(A)\n",
    "npDet = np.linalg.det(A)\n",
    "print(\"Determinant of A is\", Det)\n",
    "print(\"The Numpy Determinant of A is\", npDet)\n",
    "print()\n",
    " \n",
    "A = [[1,2,3,4],[8,5,6,7],[9,12,10,11],[13,14,16,15]]\n",
    "Det = determinant_recursive(A)\n",
    "npDet = np.linalg.det(A)\n",
    "print(\"Determinant of A is\", Det)\n",
    "print(\"The Numpy Determinant of A is\", round(npDet,9))\n",
    "print()\n",
    " \n",
    "A = [[1,2,3,4,1],[8,5,6,7,2],[9,12,10,11,3],[13,14,16,15,4],[10,8,6,4,2]]\n",
    "Det = determinant_recursive(A)\n",
    "npDet = np.linalg.det(A)\n",
    "print(\"Determinant of A is\", Det)\n",
    "print(\"The Numpy Determinant of A is\", round(npDet,9))\n",
    "print()"
   ]
  },
  {
   "cell_type": "markdown",
   "id": "b0a13101",
   "metadata": {},
   "source": [
    "### Problem 2: SVD and pseudoinverse"
   ]
  },
  {
   "cell_type": "markdown",
   "id": "fd55b50c",
   "metadata": {},
   "source": [
    "What is the solution of $Ax=b$?"
   ]
  },
  {
   "cell_type": "markdown",
   "id": "abed1434",
   "metadata": {},
   "source": [
    "If $A$'s inverse exists, we can simply multiply $A^{-1}$ on the left side of the equation and solve for $x$."
   ]
  },
  {
   "cell_type": "markdown",
   "id": "36464069",
   "metadata": {},
   "source": [
    "But what if $A$ is not a square matrix?"
   ]
  },
  {
   "cell_type": "markdown",
   "id": "ea4dce92",
   "metadata": {},
   "source": [
    "Since $A$'s inverse does not exist, we utilize the left pseudoinverse of $A$, which minimizes the least square error. Also, this left pseudoinverse can be obtained through SVD."
   ]
  },
  {
   "cell_type": "markdown",
   "id": "7c0588ca",
   "metadata": {},
   "source": [
    "As you've learned in class, after SVD, an $mxn$ matrix $A$ can be written as\n",
    "\\begin{gather}\n",
    "    A = U \\Sigma V^T.\n",
    "\\end{gather}"
   ]
  },
  {
   "cell_type": "markdown",
   "id": "608af4bf",
   "metadata": {},
   "source": [
    "The left pseudoinverse $A^{+}$, then, can be written down as "
   ]
  },
  {
   "cell_type": "markdown",
   "id": "92ab112c",
   "metadata": {},
   "source": [
    "\\begin{gather}\n",
    "    A^{+} = V \\Sigma^{+} U^{T},\n",
    "\\end{gather}"
   ]
  },
  {
   "cell_type": "markdown",
   "id": "6a4ae9c0",
   "metadata": {},
   "source": [
    "where $\\Sigma^{+}$ is a diagonal matrix consisting of reciprocals(역수) of $A$'s singular values (followed by zeros)."
   ]
  },
  {
   "cell_type": "markdown",
   "id": "641ec436",
   "metadata": {},
   "source": [
    "In this question, you will be asked to get the pseudoinverse of a matrix $A$ without using predefined pinv functions in numpy or scipy."
   ]
  },
  {
   "cell_type": "code",
   "execution_count": null,
   "id": "d95b44c8",
   "metadata": {},
   "outputs": [],
   "source": [
    "## Function to compute the left pseudoinverse of A\n",
    "## Hint: use np.linalg.svd for singular value decomposition\n",
    "## DO NOT USE ANY TYPE OF PINV LIBRARY\n",
    "def get_pinv(A):\n",
    "    \"\"\"\n",
    "    Function to compute the left pseudoinverse of mxn matrix A\n",
    "        :param A: the input matrix\n",
    "        :return: the left pseudoinverse\n",
    "    \"\"\"\n",
    "## TODO"
   ]
  },
  {
   "cell_type": "code",
   "execution_count": null,
   "id": "6f43bf33",
   "metadata": {},
   "outputs": [],
   "source": [
    "## Let's check if you've got the correct results\n",
    "A = np.random.randn(5, 4)\n",
    "np_inv = np.linalg.pinv(A)\n",
    "our_inv = get_pinv(A)\n",
    "print(np.allclose(np_inv, our_inv))\n",
    "\n",
    "A = np.random.randn(10, 6)\n",
    "np_inv = np.linalg.pinv(A)\n",
    "our_inv = get_pinv(A)\n",
    "print(np.allclose(np_inv, our_inv))\n",
    "\n",
    "A = np.random.randn(4, 3)\n",
    "np_inv = np.linalg.pinv(A)\n",
    "our_inv = get_pinv(A)\n",
    "print(np.allclose(np_inv, our_inv))\n",
    "\n",
    "A = np.random.randn(5, 7)\n",
    "np_inv = np.linalg.pinv(A)\n",
    "our_inv = get_pinv(A)\n",
    "print(np.allclose(np_inv, our_inv))"
   ]
  }
 ],
 "metadata": {
  "interpreter": {
   "hash": "d60621282e16b15ea89f7e588c8c9e3e7d60e872847fa5d4acf3fe95a5707a1c"
  },
  "kernelspec": {
   "display_name": "Python 3",
   "language": "python",
   "name": "python3"
  },
  "language_info": {
   "codemirror_mode": {
    "name": "ipython",
    "version": 3
   },
   "file_extension": ".py",
   "mimetype": "text/x-python",
   "name": "python",
   "nbconvert_exporter": "python",
   "pygments_lexer": "ipython3",
   "version": "3.6.9"
  }
 },
 "nbformat": 4,
 "nbformat_minor": 5
}
