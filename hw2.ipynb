{
 "cells": [
  {
   "cell_type": "markdown",
   "id": "186c492a",
   "metadata": {},
   "source": [
    "## Linear Algebra for Electrical Engineers HW2"
   ]
  },
  {
   "cell_type": "markdown",
   "id": "e7f33d5f",
   "metadata": {},
   "source": [
    "2021 - fall (430.216, Professor Young Min Kim)"
   ]
  },
  {
   "cell_type": "markdown",
   "id": "bec7bb51",
   "metadata": {},
   "source": [
    "TAs: Cheoul-Hui Min and Junho Lee"
   ]
  },
  {
   "cell_type": "markdown",
   "id": "a15307f8",
   "metadata": {},
   "source": [
    "### HW2: simulating linear dynamical systems and plotting the state trajectories"
   ]
  },
  {
   "cell_type": "markdown",
   "id": "54194e75",
   "metadata": {},
   "source": [
    "In this homework you will be asked to implement linear dynamical systems, which you have learned in class."
   ]
  },
  {
   "cell_type": "markdown",
   "id": "1d228d6b",
   "metadata": {},
   "source": [
    "The homework consists of 3 problems:"
   ]
  },
  {
   "cell_type": "markdown",
   "id": "a81a92e7",
   "metadata": {},
   "source": [
    "    1. A linear dynamical system with fixed dynamics\n",
    "    2. A linear dynamical system with changing dynamics\n",
    "    3. Drawing fractals using linear dynamical systems"
   ]
  },
  {
   "cell_type": "code",
   "execution_count": 1,
   "id": "d35574f6",
   "metadata": {},
   "outputs": [],
   "source": [
    "# import required modules\n",
    "import matplotlib.pyplot as plt\n",
    "import numpy as np"
   ]
  },
  {
   "cell_type": "markdown",
   "id": "2ae99caa",
   "metadata": {},
   "source": [
    "Fill in the missing parts of the code below to get results similar to the images given in the pdf file "
   ]
  },
  {
   "cell_type": "markdown",
   "id": "ae328119",
   "metadata": {},
   "source": [
    "### Problem 1 : Simulation of the SIR model"
   ]
  },
  {
   "cell_type": "markdown",
   "id": "c1843483",
   "metadata": {},
   "source": [
    "Hopefully, you will remember the SIR model from class. \n",
    "This problem will ask you to implement and simulate this model in the form of linear dynamical systems."
   ]
  },
  {
   "cell_type": "markdown",
   "id": "f2e4d005",
   "metadata": {},
   "source": [
    "Let's define the state $x_t$ as the portion of the population that are susceptible, infected, immune, deceased to or by the COVID-19 virus at timestep $t$."
   ]
  },
  {
   "cell_type": "markdown",
   "id": "abbc1bea",
   "metadata": {},
   "source": [
    "That is, $x_t$ is a vector of 4 elements that have values between 0 and 1 and sum to 1."
   ]
  },
  {
   "cell_type": "markdown",
   "id": "7d5c489b",
   "metadata": {},
   "source": [
    "Next, let's define the epidimic dynamics matrix $A$"
   ]
  },
  {
   "cell_type": "markdown",
   "id": "f1679467",
   "metadata": {},
   "source": [
    "Over each day, the state changes according to the following rules:"
   ]
  },
  {
   "cell_type": "markdown",
   "id": "4532e007",
   "metadata": {},
   "source": [
    "1. among susceptible population:\n",
    "    - $5$% get infected\n",
    "    - $95$% remain susceptible\n",
    "2. among infected population:\n",
    "    - $1$% dies\n",
    "    - $10$% recovers with immunity\n",
    "    - $4$% recover without immunity(back to being susceptible)\n",
    "    - $85$% remain infected\n",
    "3. all immune and dead people remain in their states"
   ]
  },
  {
   "cell_type": "code",
   "execution_count": null,
   "id": "057d39d7",
   "metadata": {},
   "outputs": [],
   "source": [
    "# Define state transition array\n",
    "# TODO"
   ]
  },
  {
   "cell_type": "code",
   "execution_count": null,
   "id": "13d9bbd1",
   "metadata": {},
   "outputs": [],
   "source": [
    "# Set timesteps to 100\n",
    "timesteps = 100"
   ]
  },
  {
   "cell_type": "code",
   "execution_count": null,
   "id": "05d2d601",
   "metadata": {},
   "outputs": [],
   "source": [
    "# Where to record the state trajectory\n",
    "SIR = np.zeros(shape=(timesteps, 4))"
   ]
  },
  {
   "cell_type": "code",
   "execution_count": null,
   "id": "9f068518",
   "metadata": {},
   "outputs": [],
   "source": [
    "# Initial state value\n",
    "SIR[0] = np.array([1, 0, 0, 0])"
   ]
  },
  {
   "cell_type": "code",
   "execution_count": null,
   "id": "a606a1c9",
   "metadata": {},
   "outputs": [],
   "source": [
    "# Simulate \n",
    "# TODO"
   ]
  },
  {
   "cell_type": "code",
   "execution_count": null,
   "id": "83c74657",
   "metadata": {},
   "outputs": [],
   "source": [
    "# Now let's plot the state trajectory\n",
    "fig, ax = plt.subplots(figsize=(6, 6))\n",
    "label = ['Susceptible', 'Infected', 'Immune', 'Deceased']\n",
    "for idx in range(len(label)):\n",
    "    ax.plot(SIR[:, idx], lw=3, label=label[idx])\n",
    "ax.grid()\n",
    "ax.legend(fontsize=16)\n",
    "ax.set_title('SIR model with fixed A')\n",
    "plt.show()"
   ]
  },
  {
   "cell_type": "markdown",
   "id": "7be6984d",
   "metadata": {},
   "source": [
    "### Problem 2 : SIR model with changing dynamics"
   ]
  },
  {
   "cell_type": "markdown",
   "id": "c7f30b75",
   "metadata": {},
   "source": [
    "You have implemented an SIR model with fixed epidemic dynamics $A$.\n",
    "However, the epidemic dynamics is not always necessarily fixed. For example, the introduction of vaccines will change how the epidemic behaves overtime."
   ]
  },
  {
   "cell_type": "markdown",
   "id": "1d3c8e7f",
   "metadata": {},
   "source": [
    "In this problem, you will be asked to extend problem 1 to have changing epidemic dynamics."
   ]
  },
  {
   "cell_type": "markdown",
   "id": "f74b82c8",
   "metadata": {},
   "source": [
    "For simplicity, let's say that the epidemic dynamics at time 0 $A_0$ is identical to the epidemic dynamics from problem 1."
   ]
  },
  {
   "cell_type": "markdown",
   "id": "da733400",
   "metadata": {},
   "source": [
    "But now, due to the introduction of vaccines, the rules change as follows for $A_t$"
   ]
  },
  {
   "cell_type": "markdown",
   "id": "8eea70bb",
   "metadata": {},
   "source": [
    " - Among susceptible population:\n",
    "     - $5 $% * $(0.99)^t$ acquires the disease\n",
    "     - $95 $% * $(0.99)^t$ remain susceptible\n",
    " - For infected, immune, deceased population:\n",
    "     - The rules stay the same a problem 1"
   ]
  },
  {
   "cell_type": "code",
   "execution_count": null,
   "id": "fe135f2c",
   "metadata": {},
   "outputs": [],
   "source": [
    "# Define state transition array\n",
    "# TODO"
   ]
  },
  {
   "cell_type": "code",
   "execution_count": null,
   "id": "cda91333",
   "metadata": {},
   "outputs": [],
   "source": [
    "# Set timesteps, declared where to save the state trajectory and initial state\n",
    "timesteps = 100\n",
    "SIR = np.zeros(shape=(timesteps, 4)\n",
    "SIR[0] = np.array([1, 0, 0, 0])"
   ]
  },
  {
   "cell_type": "code",
   "execution_count": null,
   "id": "03c0a6bc",
   "metadata": {},
   "outputs": [],
   "source": [
    "# Fill in the blank and simulate for 100 timesteps\n",
    "# Calculate next step and update A\n",
    "# TODO"
   ]
  },
  {
   "cell_type": "code",
   "execution_count": null,
   "id": "60594664",
   "metadata": {},
   "outputs": [],
   "source": [
    "# Now, let's plot the state trajectory\n",
    "fig, ax = plt.subplots(figsize=(6, 6))\n",
    "label = ['Susceptible', 'Infected', 'Immune', 'Deceased']\n",
    "for idx in range(len(label)):\n",
    "    ax.plot(SIR[:, idx], lw=3, label=label[idx])\n",
    "ax.grid()\n",
    "ax.legend(fontsize=16)\n",
    "ax.set_title('SIR model with changing A')\n",
    "plt.show()"
   ]
  },
  {
   "cell_type": "markdown",
   "id": "a2535f9c",
   "metadata": {},
   "source": [
    "### Problem 3: drawing fractals"
   ]
  },
  {
   "cell_type": "markdown",
   "id": "b0375dc5",
   "metadata": {},
   "source": [
    "In this problem, you will be asked to draw fractals using dynamic systems and affine transformation."
   ]
  },
  {
   "cell_type": "markdown",
   "id": "98409859",
   "metadata": {},
   "source": [
    "Recall from your classes that when some offset is present, the linear dynamical system can be written as"
   ]
  },
  {
   "cell_type": "markdown",
   "id": "81b3cb81",
   "metadata": {},
   "source": [
    "\\begin{gather}\n",
    "x_{t+1} = A_t x_t + c_t\n",
    "\\end{gather}"
   ]
  },
  {
   "cell_type": "markdown",
   "id": "15504674",
   "metadata": {},
   "source": [
    " Different from problems above, we define more than one dynamics to draw fractals. That is, for a state space of  two coordinates in 2D,"
   ]
  },
  {
   "cell_type": "markdown",
   "id": "251e8a43",
   "metadata": {},
   "source": [
    "\\begin{gather}\n",
    "x_{t+1} = \n",
    "\\begin{bmatrix}\n",
    "0.86 & 0.03\\\\\n",
    "-0.03& 0.86\n",
    "\\end{bmatrix}\n",
    "x_t\n",
    "+ \n",
    "\\begin{bmatrix}\n",
    "0\\\\\n",
    "1.5\n",
    "\\end{bmatrix}\n",
    ", with \\;probablity \\;0.79\n",
    "\\end{gather}\n"
   ]
  },
  {
   "cell_type": "markdown",
   "id": "14c4cb36",
   "metadata": {},
   "source": [
    "\\begin{gather}\n",
    "x_{t+1} = \n",
    "\\begin{bmatrix}\n",
    "0.2 & -0.25\\\\\n",
    "0.21& 0.23\n",
    "\\end{bmatrix}\n",
    "x_t\n",
    "+ \n",
    "\\begin{bmatrix}\n",
    "0\\\\\n",
    "1.5\n",
    "\\end{bmatrix}\n",
    ", with \\;probablity \\;0.11\n",
    "\\end{gather}"
   ]
  },
  {
   "cell_type": "markdown",
   "id": "c3f37660",
   "metadata": {},
   "source": [
    "\\begin{gather}\n",
    "x_{t+1} = \n",
    "\\begin{bmatrix}\n",
    "-0.15 & 0.27\\\\\n",
    "0.25& 0.26\n",
    "\\end{bmatrix}\n",
    "x_t\n",
    "+ \n",
    "\\begin{bmatrix}\n",
    "0\\\\\n",
    "0.45\n",
    "\\end{bmatrix}\n",
    ", with \\;probablity \\;0.07\n",
    "\\end{gather}"
   ]
  },
  {
   "cell_type": "markdown",
   "id": "4adf3a0c",
   "metadata": {},
   "source": [
    "\\begin{gather}\n",
    "x_{t+1} = \n",
    "\\begin{bmatrix}\n",
    "0 & 0\\\\\n",
    "0& 0.17\n",
    "\\end{bmatrix}\n",
    "x_t\n",
    "+ \n",
    "\\begin{bmatrix}\n",
    "0\\\\\n",
    "0\n",
    "\\end{bmatrix}\n",
    ", with \\;probablity \\;0.03\n",
    "\\end{gather}"
   ]
  },
  {
   "cell_type": "markdown",
   "id": "8e6be17f",
   "metadata": {},
   "source": [
    "That is, instead of a fixed transition, we apply one of the four transitions regarding their probabilities"
   ]
  },
  {
   "cell_type": "code",
   "execution_count": null,
   "id": "f738b984",
   "metadata": {},
   "outputs": [],
   "source": [
    "# Let's define A's and c's\n",
    "# TODO"
   ]
  },
  {
   "cell_type": "code",
   "execution_count": null,
   "id": "4cfddf9c",
   "metadata": {},
   "outputs": [],
   "source": [
    "# define the number of timesteps and where to save the trajectory\n",
    "timesteps = 30000\n",
    "X = np.zeros((2, timesteps))"
   ]
  },
  {
   "cell_type": "code",
   "execution_count": null,
   "id": "c3a385b9",
   "metadata": {},
   "outputs": [],
   "source": [
    "# Simulate\n",
    "# TODO"
   ]
  },
  {
   "cell_type": "code",
   "execution_count": null,
   "id": "075cf97a",
   "metadata": {},
   "outputs": [],
   "source": [
    "# Now, lets plot the state trajectory\n",
    "fig, ax = plt.subplots(figsize = (5,8))\n",
    "ax.scatter(X[0,:],X[1,:], s = 1, color = 'g')\n",
    "plt.show()"
   ]
  },
  {
   "cell_type": "code",
   "execution_count": null,
   "id": "c0bec7bc",
   "metadata": {},
   "outputs": [],
   "source": [
    "# That's it!"
   ]
  }
 ],
 "metadata": {
  "kernelspec": {
   "display_name": "ln_2021",
   "language": "python",
   "name": "ln_2021"
  },
  "language_info": {
   "codemirror_mode": {
    "name": "ipython",
    "version": 3
   },
   "file_extension": ".py",
   "mimetype": "text/x-python",
   "name": "python",
   "nbconvert_exporter": "python",
   "pygments_lexer": "ipython3",
   "version": "3.9.7"
  }
 },
 "nbformat": 4,
 "nbformat_minor": 5
}
